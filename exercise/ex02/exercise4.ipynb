{
 "cells": [
  {
   "cell_type": "code",
   "execution_count": 1,
   "metadata": {
    "collapsed": true
   },
   "outputs": [],
   "source": [
    "import numpy as np\n",
    "import matplotlib.pyplot as plt"
   ]
  },
  {
   "cell_type": "code",
   "execution_count": 2,
   "metadata": {},
   "outputs": [],
   "source": [
    "def prior_l0(n_states):\n",
    "    prior = np.zeros((n_states, n_states))\n",
    "    for i in range(n_states):\n",
    "        for j in range(i):\n",
    "            if i==j:\n",
    "                prior[i,j]=0\n",
    "                prior[j,i]=0\n",
    "            else:\n",
    "                prior[i,j]=2\n",
    "                prior[j,i]=2\n",
    "    # TODO: fill matrix such that it represents the first prior\n",
    "    return prior\n"
   ]
  },
  {
   "cell_type": "code",
   "execution_count": 3,
   "metadata": {
    "collapsed": true
   },
   "outputs": [],
   "source": [
    "def prior_l1(n_states):\n",
    "    prior = np.zeros((n_states, n_states))\n",
    "    # TODO: fill matrix such that it represents the second prior\n",
    "    for i in range(n_states):\n",
    "        for j in range(i):\n",
    "            prior[i,j]=2*np.absolute(i-j)\n",
    "            prior[j,i]=2*np.absolute(i-j)\n",
    "    return prior\n"
   ]
  },
  {
   "cell_type": "code",
   "execution_count": 4,
   "metadata": {},
   "outputs": [],
   "source": [
    "def calc_proba(lattice, x, y, prior):\n",
    "    \n",
    "    states = []\n",
    "    # TODO: fill states with probabilities for all possible n_states\n",
    "    for i in range(n_states):\n",
    "        prob=0\n",
    "        if x<lattice.shape[0]-1: \n",
    "            prob+=prior[i,lattice[x+1,y]]\n",
    "        if x>0:\n",
    "            prob+=prior[i,lattice[x-1,y]]\n",
    "        if y<lattice.shape[0]-1:\n",
    "            prob+=prior[i,lattice[x,y+1]]\n",
    "        if y>0:\n",
    "            prob+=prior[i,lattice[x,y-1]]\n",
    "        states.append(prob)\n",
    "    return states\n"
   ]
  },
  {
   "cell_type": "code",
   "execution_count": 5,
   "metadata": {
    "collapsed": true
   },
   "outputs": [],
   "source": [
    "def gibbs_update(lattice, x, y, states):\n",
    "    # TODO: chose new state\n",
    "    new_state=np.argmin(states)\n",
    "    lattice[x,y] = new_state\n"
   ]
  },
  {
   "cell_type": "code",
   "execution_count": 6,
   "metadata": {},
   "outputs": [],
   "source": [
    "def sweep_scanlines(lattice, prior):\n",
    "    # TODO: itererate over lattice and update all nodes\n",
    "    for x in range(lattice.shape[0]):\n",
    "        for y in range(lattice.shape[1]):\n",
    "            states=calc_proba(lattice, x, y, prior)\n",
    "            gibbs_update(lattice, x, y, states)\n",
    "            "
   ]
  },
  {
   "cell_type": "code",
   "execution_count": 8,
   "metadata": {},
   "outputs": [
    {
     "name": "stdout",
     "output_type": "stream",
     "text": [
      "[[ 0.  2.  4.  6.  8.]\n",
      " [ 2.  0.  2.  4.  6.]\n",
      " [ 4.  2.  0.  2.  4.]\n",
      " [ 6.  4.  2.  0.  2.]\n",
      " [ 8.  6.  4.  2.  0.]]\n"
     ]
    },
    {
     "ename": "IndexError",
     "evalue": "only integers, slices (`:`), ellipsis (`...`), numpy.newaxis (`None`) and integer or boolean arrays are valid indices",
     "output_type": "error",
     "traceback": [
      "\u001b[1;31m---------------------------------------------------------------------------\u001b[0m",
      "\u001b[1;31mIndexError\u001b[0m                                Traceback (most recent call last)",
      "\u001b[1;32m<ipython-input-8-7c3926b6fbc4>\u001b[0m in \u001b[0;36m<module>\u001b[1;34m()\u001b[0m\n\u001b[0;32m     10\u001b[0m \u001b[1;33m\u001b[0m\u001b[0m\n\u001b[0;32m     11\u001b[0m \u001b[1;32mfor\u001b[0m \u001b[0m_\u001b[0m \u001b[1;32min\u001b[0m \u001b[0mrange\u001b[0m\u001b[1;33m(\u001b[0m\u001b[0mn_iter\u001b[0m\u001b[1;33m)\u001b[0m\u001b[1;33m:\u001b[0m\u001b[1;33m\u001b[0m\u001b[0m\n\u001b[1;32m---> 12\u001b[1;33m     \u001b[0msweep_scanlines\u001b[0m\u001b[1;33m(\u001b[0m\u001b[0mlattice\u001b[0m\u001b[1;33m,\u001b[0m \u001b[0mprior\u001b[0m\u001b[1;33m)\u001b[0m\u001b[1;33m\u001b[0m\u001b[0m\n\u001b[0m\u001b[0;32m     13\u001b[0m \u001b[1;33m\u001b[0m\u001b[0m\n\u001b[0;32m     14\u001b[0m \u001b[1;33m\u001b[0m\u001b[0m\n",
      "\u001b[1;32m<ipython-input-6-45e18ca618da>\u001b[0m in \u001b[0;36msweep_scanlines\u001b[1;34m(lattice, prior)\u001b[0m\n\u001b[0;32m      3\u001b[0m     \u001b[1;32mfor\u001b[0m \u001b[0mx\u001b[0m \u001b[1;32min\u001b[0m \u001b[0mrange\u001b[0m\u001b[1;33m(\u001b[0m\u001b[0mlattice\u001b[0m\u001b[1;33m.\u001b[0m\u001b[0mshape\u001b[0m\u001b[1;33m[\u001b[0m\u001b[1;36m0\u001b[0m\u001b[1;33m]\u001b[0m\u001b[1;33m)\u001b[0m\u001b[1;33m:\u001b[0m\u001b[1;33m\u001b[0m\u001b[0m\n\u001b[0;32m      4\u001b[0m         \u001b[1;32mfor\u001b[0m \u001b[0my\u001b[0m \u001b[1;32min\u001b[0m \u001b[0mrange\u001b[0m\u001b[1;33m(\u001b[0m\u001b[0mlattice\u001b[0m\u001b[1;33m.\u001b[0m\u001b[0mshape\u001b[0m\u001b[1;33m[\u001b[0m\u001b[1;36m1\u001b[0m\u001b[1;33m]\u001b[0m\u001b[1;33m)\u001b[0m\u001b[1;33m:\u001b[0m\u001b[1;33m\u001b[0m\u001b[0m\n\u001b[1;32m----> 5\u001b[1;33m             \u001b[0mstates\u001b[0m\u001b[1;33m=\u001b[0m\u001b[0mcalc_proba\u001b[0m\u001b[1;33m(\u001b[0m\u001b[0mlattice\u001b[0m\u001b[1;33m,\u001b[0m \u001b[0mx\u001b[0m\u001b[1;33m,\u001b[0m \u001b[0my\u001b[0m\u001b[1;33m,\u001b[0m \u001b[0mprior\u001b[0m\u001b[1;33m)\u001b[0m\u001b[1;33m\u001b[0m\u001b[0m\n\u001b[0m\u001b[0;32m      6\u001b[0m             \u001b[0mgibbs_update\u001b[0m\u001b[1;33m(\u001b[0m\u001b[0mlattice\u001b[0m\u001b[1;33m,\u001b[0m \u001b[0mx\u001b[0m\u001b[1;33m,\u001b[0m \u001b[0my\u001b[0m\u001b[1;33m,\u001b[0m \u001b[0mstates\u001b[0m\u001b[1;33m)\u001b[0m\u001b[1;33m\u001b[0m\u001b[0m\n\u001b[0;32m      7\u001b[0m \u001b[1;33m\u001b[0m\u001b[0m\n",
      "\u001b[1;32m<ipython-input-4-50c8f484e9fd>\u001b[0m in \u001b[0;36mcalc_proba\u001b[1;34m(lattice, x, y, prior)\u001b[0m\n\u001b[0;32m      6\u001b[0m         \u001b[0mprob\u001b[0m\u001b[1;33m=\u001b[0m\u001b[1;36m0\u001b[0m\u001b[1;33m\u001b[0m\u001b[0m\n\u001b[0;32m      7\u001b[0m         \u001b[1;32mif\u001b[0m \u001b[0mx\u001b[0m\u001b[1;33m<\u001b[0m\u001b[0mlattice\u001b[0m\u001b[1;33m.\u001b[0m\u001b[0mshape\u001b[0m\u001b[1;33m[\u001b[0m\u001b[1;36m0\u001b[0m\u001b[1;33m]\u001b[0m\u001b[1;33m-\u001b[0m\u001b[1;36m1\u001b[0m\u001b[1;33m:\u001b[0m\u001b[1;33m\u001b[0m\u001b[0m\n\u001b[1;32m----> 8\u001b[1;33m             \u001b[0mprob\u001b[0m\u001b[1;33m+=\u001b[0m\u001b[0mprior\u001b[0m\u001b[1;33m[\u001b[0m\u001b[0mi\u001b[0m\u001b[1;33m,\u001b[0m\u001b[0mlattice\u001b[0m\u001b[1;33m[\u001b[0m\u001b[0mx\u001b[0m\u001b[1;33m+\u001b[0m\u001b[1;36m1\u001b[0m\u001b[1;33m,\u001b[0m\u001b[0my\u001b[0m\u001b[1;33m]\u001b[0m\u001b[1;33m]\u001b[0m\u001b[1;33m\u001b[0m\u001b[0m\n\u001b[0m\u001b[0;32m      9\u001b[0m         \u001b[1;32mif\u001b[0m \u001b[0mx\u001b[0m\u001b[1;33m>\u001b[0m\u001b[1;36m0\u001b[0m\u001b[1;33m:\u001b[0m\u001b[1;33m\u001b[0m\u001b[0m\n\u001b[0;32m     10\u001b[0m             \u001b[0mprob\u001b[0m\u001b[1;33m+=\u001b[0m\u001b[0mprior\u001b[0m\u001b[1;33m[\u001b[0m\u001b[0mi\u001b[0m\u001b[1;33m,\u001b[0m\u001b[0mlattice\u001b[0m\u001b[1;33m[\u001b[0m\u001b[0mx\u001b[0m\u001b[1;33m-\u001b[0m\u001b[1;36m1\u001b[0m\u001b[1;33m,\u001b[0m\u001b[0my\u001b[0m\u001b[1;33m]\u001b[0m\u001b[1;33m]\u001b[0m\u001b[1;33m\u001b[0m\u001b[0m\n",
      "\u001b[1;31mIndexError\u001b[0m: only integers, slices (`:`), ellipsis (`...`), numpy.newaxis (`None`) and integer or boolean arrays are valid indices"
     ]
    }
   ],
   "source": [
    "n_iter = 100\n",
    "n_states = 5\n",
    "n_x = 40\n",
    "n_y = 40\n",
    "# TODO: setup lattice to random integers between 0 and n_states with shape (n_x, n_y)\n",
    "lattice=np.absolute(np.round((np.random.rand(n_x,n_y)*(n_states)-0.5)))\n",
    "# TODO: call function to setup prior to be a (n_states,n_states) array\n",
    "prior=prior_l1(n_states)\n",
    "print(prior)\n",
    "\n",
    "for _ in range(n_iter):\n",
    "    sweep_scanlines(lattice, prior)\n",
    "    \n",
    "    \n",
    "f = plt.figure()\n",
    "ax = f.add_subplot(1, 1, 1)\n",
    "ax.imshow(lattice, cmap='gray', vmax=n_states)\n",
    "f.savefig(\"sample.png\")\n",
    "print(lattice[0,0])"
   ]
  },
  {
   "cell_type": "code",
   "execution_count": null,
   "metadata": {
    "collapsed": true
   },
   "outputs": [],
   "source": [
    "n_iter = 100\n",
    "n_states = 5\n",
    "n_x = 40\n",
    "n_y = 40\n",
    "# TODO: setup lattice to random integers between 0 and n_states with shape (n_x, n_y)\n",
    "lattice=np.absolute(np.round((np.random.rand(n_x,n_y)*(n_states)-0.5)))\n",
    "# TODO: call function to setup prior to be a (n_states,n_states) array\n",
    "prior=prior_l1(n_states)\n",
    "print(prior)\n",
    "\n",
    "for _ in range(n_iter):\n",
    "    sweep_scanlines(lattice, prior)\n",
    "    \n",
    "    \n",
    "f = plt.figure()\n",
    "ax = f.add_subplot(1, 1, 1)\n",
    "ax.imshow(lattice, cmap='gray', vmax=n_states)\n",
    "f.savefig(\"sample.png\")\n",
    "print(lattice[0,0])"
   ]
  },
  {
   "cell_type": "code",
   "execution_count": null,
   "metadata": {},
   "outputs": [],
   "source": [
    "\n"
   ]
  },
  {
   "cell_type": "code",
   "execution_count": null,
   "metadata": {},
   "outputs": [],
   "source": []
  },
  {
   "cell_type": "code",
   "execution_count": null,
   "metadata": {},
   "outputs": [],
   "source": []
  },
  {
   "cell_type": "code",
   "execution_count": null,
   "metadata": {
    "collapsed": true
   },
   "outputs": [],
   "source": []
  }
 ],
 "metadata": {
  "anaconda-cloud": {},
  "kernelspec": {
   "display_name": "Python 3",
   "language": "python",
   "name": "python3"
  },
  "language_info": {
   "codemirror_mode": {
    "name": "ipython",
    "version": 3
   },
   "file_extension": ".py",
   "mimetype": "text/x-python",
   "name": "python",
   "nbconvert_exporter": "python",
   "pygments_lexer": "ipython3",
   "version": "3.6.2"
  }
 },
 "nbformat": 4,
 "nbformat_minor": 1
}
