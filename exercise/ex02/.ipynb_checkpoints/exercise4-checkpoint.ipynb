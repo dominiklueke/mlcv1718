{
 "cells": [
  {
   "cell_type": "code",
   "execution_count": 61,
   "metadata": {
    "collapsed": true
   },
   "outputs": [],
   "source": [
    "import numpy as np\n",
    "import matplotlib.pyplot as plt"
   ]
  },
  {
   "cell_type": "code",
   "execution_count": 62,
   "metadata": {},
   "outputs": [],
   "source": [
    "def prior_l0(n_states):\n",
    "    prior = np.zeros((n_states, n_states))\n",
    "    for i in range(n_states):\n",
    "        for j in range(i):\n",
    "            if i==j:\n",
    "                prior[i,j]=0\n",
    "                prior[j,i]=0\n",
    "            else:\n",
    "                prior[i,j]=2\n",
    "                prior[j,i]=2\n",
    "    # TODO: fill matrix such that it represents the first prior\n",
    "    return prior\n"
   ]
  },
  {
   "cell_type": "code",
   "execution_count": 77,
   "metadata": {
    "collapsed": true
   },
   "outputs": [],
   "source": [
    "def prior_l1(n_states):\n",
    "    prior = np.zeros((n_states, n_states))\n",
    "    # TODO: fill matrix such that it represents the second prior\n",
    "    for i in range(n_states):\n",
    "        for j in range(i):\n",
    "            prior[i,j]=2*np.absolute(i-j)\n",
    "            prior[j,i]=2*np.absolute(i-j)\n",
    "    return prior\n"
   ]
  },
  {
   "cell_type": "code",
   "execution_count": 63,
   "metadata": {},
   "outputs": [],
   "source": [
    "def calc_proba(lattice, x, y, prior):\n",
    "    \n",
    "    states = []\n",
    "    # TODO: fill states with probabilities for all possible n_states\n",
    "    for i in range(n_states):\n",
    "        prob=0\n",
    "        if x<lattice.shape[0]-1: \n",
    "            prob+=prior[i,lattice[x+1,y]]\n",
    "        if x>0:\n",
    "            prob+=prior[i,lattice[x-1,y]]\n",
    "        if y<lattice.shape[0]-1:\n",
    "            prob+=prior[i,lattice[x,y+1]]\n",
    "        if y>0:\n",
    "            prob+=prior[i,lattice[x,y-1]]\n",
    "        states.append(prob)\n",
    "    return states\n"
   ]
  },
  {
   "cell_type": "code",
   "execution_count": 64,
   "metadata": {
    "collapsed": true
   },
   "outputs": [],
   "source": [
    "def gibbs_update(lattice, x, y, states):\n",
    "    # TODO: chose new state\n",
    "    new_state=np.argmin(states)\n",
    "    lattice[x,y] = new_state\n"
   ]
  },
  {
   "cell_type": "code",
   "execution_count": 65,
   "metadata": {},
   "outputs": [],
   "source": [
    "def sweep_scanlines(lattice, prior):\n",
    "    # TODO: itererate over lattice and update all nodes\n",
    "    for x in range(lattice.shape[0]):\n",
    "        for y in range(lattice.shape[1]):\n",
    "            states=calc_proba(lattice, x, y, prior)\n",
    "            gibbs_update(lattice, x, y, states)\n",
    "            "
   ]
  },
  {
   "cell_type": "code",
   "execution_count": null,
   "metadata": {
    "collapsed": true
   },
   "outputs": [],
   "source": [
    "\n"
   ]
  },
  {
   "cell_type": "code",
   "execution_count": 79,
   "metadata": {},
   "outputs": [
    {
     "name": "stdout",
     "output_type": "stream",
     "text": [
      "[[ 0.  2.  4.  6.  8.]\n",
      " [ 2.  0.  2.  4.  6.]\n",
      " [ 4.  2.  0.  2.  4.]\n",
      " [ 6.  4.  2.  0.  2.]\n",
      " [ 8.  6.  4.  2.  0.]]\n"
     ]
    },
    {
     "name": "stderr",
     "output_type": "stream",
     "text": [
      "/home/julia/anaconda3/lib/python3.5/site-packages/ipykernel/__main__.py:8: VisibleDeprecationWarning: using a non-integer number instead of an integer will result in an error in the future\n",
      "/home/julia/anaconda3/lib/python3.5/site-packages/ipykernel/__main__.py:12: VisibleDeprecationWarning: using a non-integer number instead of an integer will result in an error in the future\n",
      "/home/julia/anaconda3/lib/python3.5/site-packages/ipykernel/__main__.py:14: VisibleDeprecationWarning: using a non-integer number instead of an integer will result in an error in the future\n",
      "/home/julia/anaconda3/lib/python3.5/site-packages/ipykernel/__main__.py:10: VisibleDeprecationWarning: using a non-integer number instead of an integer will result in an error in the future\n"
     ]
    },
    {
     "name": "stdout",
     "output_type": "stream",
     "text": [
      "0.0\n"
     ]
    }
   ],
   "source": [
    "n_iter = 100\n",
    "n_states = 5\n",
    "n_x = 40\n",
    "n_y = 40\n",
    "# TODO: setup lattice to random integers between 0 and n_states with shape (n_x, n_y)\n",
    "lattice=np.absolute(np.round((np.random.rand(n_x,n_y)*(n_states)-0.5)))\n",
    "# TODO: call function to setup prior to be a (n_states,n_states) array\n",
    "prior=prior_l1(n_states)\n",
    "print(prior)\n",
    "\n",
    "for _ in range(n_iter):\n",
    "    sweep_scanlines(lattice, prior)\n",
    "    \n",
    "    \n",
    "f = plt.figure()\n",
    "ax = f.add_subplot(1, 1, 1)\n",
    "ax.imshow(lattice, cmap='gray', vmax=n_states)\n",
    "f.savefig(\"sample.png\")\n",
    "print(lattice[0,0])"
   ]
  },
  {
   "cell_type": "code",
   "execution_count": null,
   "metadata": {},
   "outputs": [],
   "source": [
    "\n"
   ]
  },
  {
   "cell_type": "code",
   "execution_count": null,
   "metadata": {},
   "outputs": [],
   "source": []
  },
  {
   "cell_type": "code",
   "execution_count": null,
   "metadata": {},
   "outputs": [],
   "source": []
  },
  {
   "cell_type": "code",
   "execution_count": null,
   "metadata": {
    "collapsed": true
   },
   "outputs": [],
   "source": []
  }
 ],
 "metadata": {
  "anaconda-cloud": {},
  "kernelspec": {
   "display_name": "Python 3",
   "language": "python",
   "name": "python3"
  },
  "language_info": {
   "codemirror_mode": {
    "name": "ipython",
    "version": 3
   },
   "file_extension": ".py",
   "mimetype": "text/x-python",
   "name": "python",
   "nbconvert_exporter": "python",
   "pygments_lexer": "ipython3",
   "version": "3.6.2"
  }
 },
 "nbformat": 4,
 "nbformat_minor": 1
}
