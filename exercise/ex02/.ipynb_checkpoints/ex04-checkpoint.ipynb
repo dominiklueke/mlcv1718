{
 "cells": [
  {
   "cell_type": "code",
   "execution_count": 1,
   "metadata": {
    "collapsed": true
   },
   "outputs": [],
   "source": [
    "import numpy as np\n",
    "import matplotlib.pyplot as plt\n",
    "from math import fabs as abs\n",
    "\n",
    "def prior_l0(n_states, alpha):\n",
    "    prior = np.ones((n_states, n_states))*alpha\n",
    "    np.fill_diagonal(prior,0)\n",
    "    return prior\n",
    "\n",
    "def prior_l1(n_states, alpha):\n",
    "    prior = np.zeros((n_states, n_states))\n",
    "    for n in range(n_states):\n",
    "        for m in range(n_states):\n",
    "            prior[n,m] = alpha*abs(n-m)\n",
    "    return prior\n",
    "\n",
    "def calc_proba(lattice, x, y, prior):\n",
    "    (xMax, yMax) = lattice.shape\n",
    "    (horiz_neighbors, vertic_neighbors) = np.array([x-1,x+1]),np.array([y-1,y+1])\n",
    "    states = []\n",
    "    neighbors = []\n",
    "    for xN in horiz_neighbors[np.in1d(horiz_neighbors,np.arange(xMax))]:\n",
    "        neighbors.append(lattice[xN,y])\n",
    "    for yN in vertic_neighbors[np.in1d(vertic_neighbors,np.arange(yMax))]:\n",
    "        neighbors.append(lattice[x,yN])    \n",
    "    energies = np.exp(-np.sum(prior[:,neighbors], axis= 1))\n",
    "    for i in range(len(prior)):\n",
    "        states.append( energies[i]/np.sum(energies))\n",
    "    return states\n",
    "    \n",
    "def gibbs_update(lattice, x, y, prior):\n",
    "    probabilities = calc_proba(lattice, x, y, prior)\n",
    "    new_state = np.random.choice(len(prior), 1, p=probabilities)\n",
    "    lattice[x,y] = new_state\n",
    "\n",
    "def sweep_scanlines(lattice, prior):\n",
    "    (x_len,y_len) = lattice.shape\n",
    "    for x in range(x_len):\n",
    "        for y in range(y_len):\n",
    "            gibbs_update(lattice, x, y, prior)\n",
    "    return 0\n"
   ]
  },
  {
   "cell_type": "code",
   "execution_count": 2,
   "metadata": {},
   "outputs": [
    {
     "name": "stdout",
     "output_type": "stream",
     "text": [
      "Prior 1, 100 steps, alpha = 2\n"
     ]
    },
    {
     "data": {
      "image/png": "[encoded data removed]",
      "text/plain": [
       "<matplotlib.figure.Figure at 0x226740a6828>"
      ]
     },
     "metadata": {},
     "output_type": "display_data"
    }
   ],
   "source": [
    "print('Prior 1, 100 steps, alpha = 2')\n",
    "n_iter = 100\n",
    "n_states = 5\n",
    "n_x = 40\n",
    "n_y = 60\n",
    "prior= prior_l0(n_states,2)\n",
    "lattice = np.random.randint(n_states, size = (n_x, n_y))\n",
    "plt.figure()\n",
    "plt.subplot(121)\n",
    "plt.imshow(lattice, cmap='gray', vmax=n_states)\n",
    "plt.title('Initial Image')\n",
    "for i in range(n_iter):\n",
    "    sweep_scanlines(lattice, prior)\n",
    "\n",
    "plt.subplot(122)\n",
    "plt.imshow(lattice, cmap='gray', vmax=n_states)\n",
    "plt.title('Image after %d steps'%n_iter)\n",
    "plt.show()"
   ]
  },
  {
   "cell_type": "code",
   "execution_count": 3,
   "metadata": {},
   "outputs": [
    {
     "name": "stdout",
     "output_type": "stream",
     "text": [
      "Prior 1, 10 steps, alpha = 2\n"
     ]
    },
    {
     "data": {
      "image/png": "[encoded data removed]",
      "text/plain": [
       "<matplotlib.figure.Figure at 0x226752c8278>"
      ]
     },
     "metadata": {},
     "output_type": "display_data"
    }
   ],
   "source": [
    "print('Prior 1, 10 steps, alpha = 2')\n",
    "n_iter = 10\n",
    "n_states = 5\n",
    "n_x = 40\n",
    "n_y = 60\n",
    "prior= prior_l1(n_states,2)\n",
    "lattice = np.random.randint(n_states, size = (n_x, n_y))\n",
    "plt.figure()\n",
    "plt.subplot(121)\n",
    "plt.imshow(lattice, cmap='gray', vmax=n_states)\n",
    "plt.title('Initial Image')\n",
    "for i in range(n_iter):\n",
    "    sweep_scanlines(lattice, prior)\n",
    "\n",
    "plt.subplot(122)\n",
    "plt.imshow(lattice, cmap='gray', vmax=n_states)\n",
    "plt.title('Image after %d steps'%n_iter)\n",
    "plt.show()"
   ]
  },
  {
   "cell_type": "markdown",
   "metadata": {},
   "source": [
    "Prior 2 converges much faster"
   ]
  }
 ],
 "metadata": {
  "kernelspec": {
   "display_name": "Python 3",
   "language": "python",
   "name": "python3"
  },
  "language_info": {
   "codemirror_mode": {
    "name": "ipython",
    "version": 3
   },
   "file_extension": ".py",
   "mimetype": "text/x-python",
   "name": "python",
   "nbconvert_exporter": "python",
   "pygments_lexer": "ipython3",
   "version": "3.6.2"
  }
 },
 "nbformat": 4,
 "nbformat_minor": 2
}
